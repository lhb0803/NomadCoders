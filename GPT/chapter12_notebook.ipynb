{
 "cells": [
  {
   "cell_type": "code",
   "execution_count": 1,
   "metadata": {},
   "outputs": [],
   "source": [
    "from langchain.chat_models import ChatOpenAI\n",
    "from langchain.agents import initialize_agent, AgentType\n",
    "from langchain.tools import Tool, BaseTool, DuckDuckGoSearchResults\n",
    "from pydantic import BaseModel, Field\n",
    "from typing import Type"
   ]
  },
  {
   "cell_type": "code",
   "execution_count": 2,
   "metadata": {},
   "outputs": [],
   "source": [
    "llm = ChatOpenAI(temperature=0.1)\n",
    "\n",
    "class StockMarketSymbolSearchToolArgsSchema(BaseModel):\n",
    "    query: str = Field(description=\"The query you will search for\")\n",
    "\n",
    "class StockMarketSymbolSearchTool(BaseTool):\n",
    "    name = \"StockMarketSymbolSearchTool\"\n",
    "    description = \"\"\"\n",
    "    Use this tool to find the stock market symbol for a compnay.\n",
    "    It takes a query as an argument.\n",
    "    Example query: Stock Market Symbol for Apple Company\n",
    "    \"\"\"\n",
    "    args_schema: Type[StockMarketSymbolSearchToolArgsSchema] = StockMarketSymbolSearchToolArgsSchema\n",
    "\n",
    "    def _run(self, query):\n",
    "        ddg = DuckDuckGoSearchResults()\n",
    "        return ddg.run(query)"
   ]
  },
  {
   "cell_type": "code",
   "execution_count": 3,
   "metadata": {},
   "outputs": [
    {
     "name": "stdout",
     "output_type": "stream",
     "text": [
      "\n",
      "\n",
      "\u001b[1m> Entering new AgentExecutor chain...\u001b[0m\n",
      "\u001b[32;1m\u001b[1;3m\n",
      "Invoking: `StockMarketSymbolSearchTool` with `{'query': 'Cloudflare stock'}`\n",
      "\n",
      "\n",
      "\u001b[0m\u001b[36;1m\u001b[1;3m[snippet: Get the latest Cloudflare, Inc. (NET) stock quote, news, financials, statistics, forecast, dividends and profile. See how Cloudflare performs in the market and what analysts and investors say about its future prospects., title: Cloudflare, Inc. (NET) Stock Price, Quote & News - Stock Analysis, link: https://stockanalysis.com/stocks/net/], [snippet: Stock analysis for Cloudflare Inc (NET:New York) including stock price, stock chart, company news, key statistics, fundamentals and company profile., title: NET: Cloudflare Inc Stock Price Quote - New York - Bloomberg, link: https://www.bloomberg.com/quote/NET:US], [snippet: Cloudflare: Genuinely Disruptive. A high-level overview of Cloudflare, Inc. (NET) stock. Stay up to date on the latest stock price, chart, news, analysis, fundamentals, trading and investment tools., title: Cloudflare, Inc. (NET) Stock Price, Quote, News & Analysis, link: https://seekingalpha.com/symbol/NET/analysis], [snippet: Cloudflare, Inc. (NYSE:NET) reported its first-quarter financial results after the bell on Thursday. Here are the details. Cloudflare reported quarterly earnings of 16 cents per share, which beat ..., title: Cloudflare Stock Tanks Following Q1 Results, Subpar Guidance - Here's Why, link: https://finance.yahoo.com/news/cloudflare-stock-tanks-following-q1-230449816.html]\u001b[0m\u001b[32;1m\u001b[1;3mThe stock symbol for Cloudflare is NET. \n",
      "\n",
      "Cloudflare, Inc. (NET) is a company that provides cloud-based services to secure and optimize websites. The stock has been in the news recently, with various financial analysis platforms providing insights into its performance and future prospects. \n",
      "\n",
      "To analyze if Cloudflare is a potential good investment, we can look at factors such as the company's financial health, growth potential, market position, and industry trends. Additionally, it's important to consider your investment goals, risk tolerance, and time horizon before making any investment decisions.\n",
      "\n",
      "If you would like more detailed analysis or specific financial metrics on Cloudflare, please let me know.\u001b[0m\n",
      "\n",
      "\u001b[1m> Finished chain.\u001b[0m\n"
     ]
    },
    {
     "data": {
      "text/plain": [
       "{'input': \"Give me information on Cloudflare's stock and help me analyze if it's a potential good investment. Also tell me what symbol does the stock have\",\n",
       " 'output': \"The stock symbol for Cloudflare is NET. \\n\\nCloudflare, Inc. (NET) is a company that provides cloud-based services to secure and optimize websites. The stock has been in the news recently, with various financial analysis platforms providing insights into its performance and future prospects. \\n\\nTo analyze if Cloudflare is a potential good investment, we can look at factors such as the company's financial health, growth potential, market position, and industry trends. Additionally, it's important to consider your investment goals, risk tolerance, and time horizon before making any investment decisions.\\n\\nIf you would like more detailed analysis or specific financial metrics on Cloudflare, please let me know.\"}"
      ]
     },
     "execution_count": 3,
     "metadata": {},
     "output_type": "execute_result"
    }
   ],
   "source": [
    "agent = initialize_agent(\n",
    "    llm=llm,\n",
    "    verbose=True,\n",
    "    agent=AgentType.OPENAI_FUNCTIONS,\n",
    "    handle_parsing_errors=True,\n",
    "    tools=[\n",
    "        StockMarketSymbolSearchTool(),\n",
    "    ]\n",
    ")\n",
    "\n",
    "prompt = \"Give me information on Cloudflare's stock and help me analyze if it's a potential good investment. Also tell me what symbol does the stock have\"\n",
    "\n",
    "agent.invoke(prompt)"
   ]
  },
  {
   "cell_type": "code",
   "execution_count": null,
   "metadata": {},
   "outputs": [],
   "source": []
  }
 ],
 "metadata": {
  "kernelspec": {
   "display_name": "Python 3",
   "language": "python",
   "name": "python3"
  },
  "language_info": {
   "codemirror_mode": {
    "name": "ipython",
    "version": 3
   },
   "file_extension": ".py",
   "mimetype": "text/x-python",
   "name": "python",
   "nbconvert_exporter": "python",
   "pygments_lexer": "ipython3",
   "version": "3.11.7"
  }
 },
 "nbformat": 4,
 "nbformat_minor": 2
}
