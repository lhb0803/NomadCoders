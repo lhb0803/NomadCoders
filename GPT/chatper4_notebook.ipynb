{
 "cells": [
  {
   "cell_type": "code",
   "execution_count": 1,
   "metadata": {},
   "outputs": [],
   "source": [
    "from langchain.chat_models import ChatOpenAI\n",
    "from langchain.prompts import PromptTemplate\n",
    "from langchain.prompts.few_shot import FewShotPromptTemplate\n",
    "from langchain.callbacks import StreamingStdOutCallbackHandler"
   ]
  },
  {
   "cell_type": "code",
   "execution_count": 2,
   "metadata": {},
   "outputs": [
    {
     "data": {
      "text/plain": [
       "'What do you know about Austrailia?'"
      ]
     },
     "execution_count": 2,
     "metadata": {},
     "output_type": "execute_result"
    }
   ],
   "source": [
    "chat = ChatOpenAI(\n",
    "    temperature=0.1,\n",
    "    streaming=True,\n",
    "    callbacks=[\n",
    "        StreamingStdOutCallbackHandler(), \n",
    "    ]\n",
    ")\n",
    "\n",
    "t = PromptTemplate(\n",
    "    template=\"What do you know about {country}?\",\n",
    "    input_variables=[\"country\"],\n",
    ")\n",
    "t.format(country=\"Austrailia\")"
   ]
  },
  {
   "cell_type": "code",
   "execution_count": 3,
   "metadata": {},
   "outputs": [
    {
     "name": "stdout",
     "output_type": "stream",
     "text": [
      "Australia is a country located in the southern hemisphere, comprising the mainland of the Australian continent, the island of Tasmania, and numerous smaller islands. Here are some key facts about Australia:\n",
      "\n",
      "1. Geography: Australia is the world's sixth-largest country by total area, covering approximately 7.7 million square kilometers. It is surrounded by the Indian and Pacific Oceans and shares maritime borders with Indonesia, East Timor, Papua New Guinea, New Zealand, and several Pacific island nations.\n",
      "\n",
      "2. Capital and Major Cities: The capital city of Australia is Canberra, while the largest city is Sydney. Other major cities include Melbourne, Brisbane, Perth, and Adelaide.\n",
      "\n",
      "3. Population: Australia has a population of around 25 million people, making it the 53rd most populous country globally. It is known for its multicultural society, with immigrants from various countries contributing to its diversity.\n",
      "\n",
      "4. Indigenous Culture: Australia has a rich Indigenous history, with Aboriginal and Torres Strait Islander peoples being the country's first inhabitants. They have a unique cultural heritage, including art, music, storytelling, and spiritual beliefs.\n",
      "\n",
      "5. Wildlife: Australia is renowned for its diverse and unique wildlife. It is home to various iconic animals such as kangaroos, koalas, platypus, wombats, and emus. The Great Barrier Reef, located off the coast of Queensland, is the world's largest coral reef system and a UNESCO World Heritage site.\n",
      "\n",
      "6. Climate: Australia experiences a wide range of climates due to its size. The northern regions have a tropical climate, while the southern parts have a more temperate climate. The country is known for its long, hot summers and mild winters.\n",
      "\n",
      "7. Economy: Australia has a prosperous and developed economy, ranking as the 14th largest in the world. It is known for its abundance of natural resources, including coal, iron ore, gold, and uranium. Key industries include mining, agriculture, manufacturing, and services.\n",
      "\n",
      "8. Sports: Australians are passionate about sports, with cricket, Australian rules football, rugby, soccer, tennis, and swimming being popular. The country has a strong sporting culture and has produced many successful athletes in various disciplines.\n",
      "\n",
      "9. Landmarks and Tourism: Australia boasts several iconic landmarks, including the Sydney Opera House, Uluru (Ayers Rock), the Great Ocean Road, the Twelve Apostles, the Great Barrier Reef, and the Daintree Rainforest. Tourism plays a significant role in the country's economy.\n",
      "\n",
      "10. Political System: Australia is a federal parliamentary constitutional monarchy. It is a member of the Commonwealth of Nations, with Queen Elizabeth II as the monarch. The country has a democratic system with a bicameral parliament and a Prime Minister as the head of government.\n",
      "\n",
      "These are just some highlights about Australia, and there is much more to explore and learn about this fascinating country."
     ]
    },
    {
     "data": {
      "text/plain": [
       "\"Australia is a country located in the southern hemisphere, comprising the mainland of the Australian continent, the island of Tasmania, and numerous smaller islands. Here are some key facts about Australia:\\n\\n1. Geography: Australia is the world's sixth-largest country by total area, covering approximately 7.7 million square kilometers. It is surrounded by the Indian and Pacific Oceans and shares maritime borders with Indonesia, East Timor, Papua New Guinea, New Zealand, and several Pacific island nations.\\n\\n2. Capital and Major Cities: The capital city of Australia is Canberra, while the largest city is Sydney. Other major cities include Melbourne, Brisbane, Perth, and Adelaide.\\n\\n3. Population: Australia has a population of around 25 million people, making it the 53rd most populous country globally. It is known for its multicultural society, with immigrants from various countries contributing to its diversity.\\n\\n4. Indigenous Culture: Australia has a rich Indigenous history, with Aboriginal and Torres Strait Islander peoples being the country's first inhabitants. They have a unique cultural heritage, including art, music, storytelling, and spiritual beliefs.\\n\\n5. Wildlife: Australia is renowned for its diverse and unique wildlife. It is home to various iconic animals such as kangaroos, koalas, platypus, wombats, and emus. The Great Barrier Reef, located off the coast of Queensland, is the world's largest coral reef system and a UNESCO World Heritage site.\\n\\n6. Climate: Australia experiences a wide range of climates due to its size. The northern regions have a tropical climate, while the southern parts have a more temperate climate. The country is known for its long, hot summers and mild winters.\\n\\n7. Economy: Australia has a prosperous and developed economy, ranking as the 14th largest in the world. It is known for its abundance of natural resources, including coal, iron ore, gold, and uranium. Key industries include mining, agriculture, manufacturing, and services.\\n\\n8. Sports: Australians are passionate about sports, with cricket, Australian rules football, rugby, soccer, tennis, and swimming being popular. The country has a strong sporting culture and has produced many successful athletes in various disciplines.\\n\\n9. Landmarks and Tourism: Australia boasts several iconic landmarks, including the Sydney Opera House, Uluru (Ayers Rock), the Great Ocean Road, the Twelve Apostles, the Great Barrier Reef, and the Daintree Rainforest. Tourism plays a significant role in the country's economy.\\n\\n10. Political System: Australia is a federal parliamentary constitutional monarchy. It is a member of the Commonwealth of Nations, with Queen Elizabeth II as the monarch. The country has a democratic system with a bicameral parliament and a Prime Minister as the head of government.\\n\\nThese are just some highlights about Australia, and there is much more to explore and learn about this fascinating country.\""
      ]
     },
     "execution_count": 3,
     "metadata": {},
     "output_type": "execute_result"
    }
   ],
   "source": [
    "chat.predict(t.format(country=\"Austrailia\"))"
   ]
  },
  {
   "cell_type": "code",
   "execution_count": 4,
   "metadata": {},
   "outputs": [],
   "source": [
    "examples = [\n",
    "    {\n",
    "        \"question\": \"What do you know about France?\",\n",
    "        \"answer\": \"\"\"\n",
    "        Here is what I know:\n",
    "        Capital: Paris\n",
    "        Language: French\n",
    "        Food: Wine and Cheese\n",
    "        Currency: Euro\n",
    "        \"\"\",\n",
    "    },\n",
    "    {\n",
    "        \"question\": \"What do you know about Italy?\",\n",
    "        \"answer\": \"\"\"\n",
    "        I know this:\n",
    "        Capital: Rome\n",
    "        Language: Italian\n",
    "        Food: Pizza and Pasta\n",
    "        Currency: Euro\n",
    "        \"\"\",\n",
    "    },\n",
    "    {\n",
    "        \"question\": \"What do you know about Greece?\",\n",
    "        \"answer\": \"\"\"\n",
    "        I know this:\n",
    "        Capital: Athens\n",
    "        Language: Greek\n",
    "        Food: Souvlaki and Feta Cheese\n",
    "        Currency: Euro\n",
    "        \"\"\",\n",
    "    },\n",
    "]\n"
   ]
  },
  {
   "cell_type": "code",
   "execution_count": 5,
   "metadata": {},
   "outputs": [
    {
     "name": "stdout",
     "output_type": "stream",
     "text": [
      "AI: \n",
      "I know this:\n",
      "Capital: Canberra\n",
      "Language: English\n",
      "Food: Vegemite, Meat Pies, and Lamingtons\n",
      "Currency: Australian Dollar"
     ]
    },
    {
     "data": {
      "text/plain": [
       "AIMessageChunk(content='AI: \\nI know this:\\nCapital: Canberra\\nLanguage: English\\nFood: Vegemite, Meat Pies, and Lamingtons\\nCurrency: Australian Dollar')"
      ]
     },
     "execution_count": 5,
     "metadata": {},
     "output_type": "execute_result"
    }
   ],
   "source": [
    "example_template = \"\"\"\n",
    "    Human: {question}\n",
    "    AI: {answer}\n",
    "\"\"\"\n",
    "\n",
    "example_prompt = PromptTemplate.from_template(example_template)\n",
    "\n",
    "prompt = FewShotPromptTemplate(\n",
    "    example_prompt=example_prompt,\n",
    "    examples=examples,\n",
    "    suffix=\"Human: What do you know about {country}?\",\n",
    "    input_variables=[\"country\"]\n",
    ")\n",
    "\n",
    "chain = prompt | chat \n",
    "\n",
    "chain.invoke(\n",
    "    {\n",
    "        \"country\": \"Austrailia\"\n",
    "    }\n",
    ")"
   ]
  },
  {
   "cell_type": "code",
   "execution_count": null,
   "metadata": {},
   "outputs": [],
   "source": []
  }
 ],
 "metadata": {
  "kernelspec": {
   "display_name": "gpt-fullstack",
   "language": "python",
   "name": "python3"
  },
  "language_info": {
   "codemirror_mode": {
    "name": "ipython",
    "version": 3
   },
   "file_extension": ".py",
   "mimetype": "text/x-python",
   "name": "python",
   "nbconvert_exporter": "python",
   "pygments_lexer": "ipython3",
   "version": "3.11.7"
  }
 },
 "nbformat": 4,
 "nbformat_minor": 2
}
