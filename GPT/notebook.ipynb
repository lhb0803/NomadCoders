{
 "cells": [
  {
   "cell_type": "code",
   "execution_count": 1,
   "metadata": {},
   "outputs": [],
   "source": [
    "from langchain.chat_models import ChatOpenAI\n",
    "from langchain.prompts import ChatPromptTemplate\n",
    "from langchain.callbacks import StreamingStdOutCallbackHandler"
   ]
  },
  {
   "cell_type": "code",
   "execution_count": 2,
   "metadata": {},
   "outputs": [],
   "source": [
    "chat = ChatOpenAI(\n",
    "    temperature=0.1, \n",
    "    streaming=True,\n",
    "    callbacks=[StreamingStdOutCallbackHandler()]\n",
    ")\n",
    "\n",
    "chef_prompt = ChatPromptTemplate.from_messages(\n",
    "    [\n",
    "        (\"system\", \"You are a world-class international chef. You create easy to follow recipies for any type of cuisine with easy to find ingredients.\"),\n",
    "        (\"human\", \"I want to cook {cuisine} food.\")\n",
    "    ]\n",
    ")\n",
    "\n",
    "chef_chain = chef_prompt | chat"
   ]
  },
  {
   "cell_type": "code",
   "execution_count": 3,
   "metadata": {},
   "outputs": [],
   "source": [
    "veg_chef_prompt = ChatPromptTemplate.from_messages(\n",
    "    [\n",
    "        (\"system\", \"You are a vegetarian chef specialized on making traditional recipes vegetarian. You find alternative ingredients and explain their preparation. You don't radically modify the recipe. If there is no alternative for a food just say you don't know how to recipe it.\"), \n",
    "        (\"human\", \"{recipe}\")\n",
    "    ]\n",
    ")\n",
    "\n",
    "veg_chain = veg_chef_prompt | chat"
   ]
  },
  {
   "cell_type": "code",
   "execution_count": 4,
   "metadata": {},
   "outputs": [
    {
     "name": "stdout",
     "output_type": "stream",
     "text": [
      "Great choice! Indian cuisine is known for its rich flavors and aromatic spices. Here's a recipe for a classic Indian dish called Chicken Tikka Masala:\n",
      "\n",
      "Ingredients:\n",
      "- 500g boneless chicken, cut into bite-sized pieces\n",
      "- 1 cup plain yogurt\n",
      "- 2 tablespoons lemon juice\n",
      "- 2 tablespoons vegetable oil\n",
      "- 1 large onion, finely chopped\n",
      "- 3 cloves of garlic, minced\n",
      "- 1-inch piece of ginger, grated\n",
      "- 2 teaspoons ground cumin\n",
      "- 2 teaspoons ground coriander\n",
      "- 1 teaspoon turmeric powder\n",
      "- 1 teaspoon paprika\n",
      "- 1 teaspoon garam masala\n",
      "- 1 teaspoon chili powder (adjust to taste)\n",
      "- 1 cup tomato puree\n",
      "- 1 cup heavy cream\n",
      "- Salt, to taste\n",
      "- Fresh cilantro, chopped (for garnish)\n",
      "\n",
      "Instructions:\n",
      "1. In a bowl, combine the yogurt, lemon juice, 1 teaspoon of cumin, 1 teaspoon of coriander, turmeric powder, paprika, and chili powder. Add the chicken pieces and mix well. Marinate for at least 1 hour, or overnight in the refrigerator for best results.\n",
      "\n",
      "2. Preheat your oven to 400°F (200°C). Place the marinated chicken on a baking sheet lined with parchment paper. Bake for 15-20 minutes or until the chicken is cooked through and slightly charred. Set aside.\n",
      "\n",
      "3. In a large pan, heat the vegetable oil over medium heat. Add the chopped onion and cook until golden brown, stirring occasionally.\n",
      "\n",
      "4. Add the minced garlic and grated ginger to the pan and cook for another minute.\n",
      "\n",
      "5. Add the remaining cumin, coriander, garam masala, and salt. Stir well to combine the spices with the onion mixture.\n",
      "\n",
      "6. Pour in the tomato puree and cook for 5 minutes, allowing the flavors to meld together.\n",
      "\n",
      "7. Reduce the heat to low and stir in the heavy cream. Simmer for another 5 minutes, stirring occasionally.\n",
      "\n",
      "8. Add the baked chicken tikka pieces to the sauce and simmer for an additional 5 minutes, allowing the flavors to infuse.\n",
      "\n",
      "9. Taste and adjust the seasoning if needed. If the sauce is too thick, you can add a little water to achieve the desired consistency.\n",
      "\n",
      "10. Garnish with freshly chopped cilantro and serve hot with steamed rice or naan bread.\n",
      "\n",
      "Enjoy your homemade Chicken Tikka Masala, a popular Indian dish that is sure to impress your taste buds!To make a vegetarian version of Chicken Tikka Masala, you can replace the chicken with a plant-based protein such as tofu or paneer. Here's how you can modify the recipe:\n",
      "\n",
      "Ingredients:\n",
      "- 500g tofu or paneer, cut into bite-sized pieces\n",
      "- 1 cup plain yogurt (use dairy-free yogurt if vegan)\n",
      "- 2 tablespoons lemon juice\n",
      "- 2 tablespoons vegetable oil\n",
      "- 1 large onion, finely chopped\n",
      "- 3 cloves of garlic, minced\n",
      "- 1-inch piece of ginger, grated\n",
      "- 2 teaspoons ground cumin\n",
      "- 2 teaspoons ground coriander\n",
      "- 1 teaspoon turmeric powder\n",
      "- 1 teaspoon paprika\n",
      "- 1 teaspoon garam masala\n",
      "- 1 teaspoon chili powder (adjust to taste)\n",
      "- 1 cup tomato puree\n",
      "- 1 cup coconut cream (or dairy-free heavy cream)\n",
      "- Salt, to taste\n",
      "- Fresh cilantro, chopped (for garnish)\n",
      "\n",
      "Instructions:\n",
      "1. In a bowl, combine the yogurt, lemon juice, 1 teaspoon of cumin, 1 teaspoon of coriander, turmeric powder, paprika, and chili powder. Add the tofu or paneer pieces and mix well. Marinate for at least 1 hour, or overnight in the refrigerator for best results.\n",
      "\n",
      "2. Preheat your oven to 400°F (200°C). Place the marinated tofu or paneer on a baking sheet lined with parchment paper. Bake for 15-20 minutes or until slightly charred. Set aside.\n",
      "\n",
      "3. In a large pan, heat the vegetable oil over medium heat. Add the chopped onion and cook until golden brown, stirring occasionally.\n",
      "\n",
      "4. Add the minced garlic and grated ginger to the pan and cook for another minute.\n",
      "\n",
      "5. Add the remaining cumin, coriander, garam masala, and salt. Stir well to combine the spices with the onion mixture.\n",
      "\n",
      "6. Pour in the tomato puree and cook for 5 minutes, allowing the flavors to meld together.\n",
      "\n",
      "7. Reduce the heat to low and stir in the coconut cream. Simmer for another 5 minutes, stirring occasionally.\n",
      "\n",
      "8. Add the baked tofu or paneer pieces to the sauce and simmer for an additional 5 minutes, allowing the flavors to infuse.\n",
      "\n",
      "9. Taste and adjust the seasoning if needed. If the sauce is too thick, you can add a little water to achieve the desired consistency.\n",
      "\n",
      "10. Garnish with freshly chopped cilantro and serve hot with steamed rice or naan bread.\n",
      "\n",
      "Enjoy your vegetarian version of Chicken Tikka Masala!"
     ]
    },
    {
     "data": {
      "text/plain": [
       "AIMessageChunk(content=\"To make a vegetarian version of Chicken Tikka Masala, you can replace the chicken with a plant-based protein such as tofu or paneer. Here's how you can modify the recipe:\\n\\nIngredients:\\n- 500g tofu or paneer, cut into bite-sized pieces\\n- 1 cup plain yogurt (use dairy-free yogurt if vegan)\\n- 2 tablespoons lemon juice\\n- 2 tablespoons vegetable oil\\n- 1 large onion, finely chopped\\n- 3 cloves of garlic, minced\\n- 1-inch piece of ginger, grated\\n- 2 teaspoons ground cumin\\n- 2 teaspoons ground coriander\\n- 1 teaspoon turmeric powder\\n- 1 teaspoon paprika\\n- 1 teaspoon garam masala\\n- 1 teaspoon chili powder (adjust to taste)\\n- 1 cup tomato puree\\n- 1 cup coconut cream (or dairy-free heavy cream)\\n- Salt, to taste\\n- Fresh cilantro, chopped (for garnish)\\n\\nInstructions:\\n1. In a bowl, combine the yogurt, lemon juice, 1 teaspoon of cumin, 1 teaspoon of coriander, turmeric powder, paprika, and chili powder. Add the tofu or paneer pieces and mix well. Marinate for at least 1 hour, or overnight in the refrigerator for best results.\\n\\n2. Preheat your oven to 400°F (200°C). Place the marinated tofu or paneer on a baking sheet lined with parchment paper. Bake for 15-20 minutes or until slightly charred. Set aside.\\n\\n3. In a large pan, heat the vegetable oil over medium heat. Add the chopped onion and cook until golden brown, stirring occasionally.\\n\\n4. Add the minced garlic and grated ginger to the pan and cook for another minute.\\n\\n5. Add the remaining cumin, coriander, garam masala, and salt. Stir well to combine the spices with the onion mixture.\\n\\n6. Pour in the tomato puree and cook for 5 minutes, allowing the flavors to meld together.\\n\\n7. Reduce the heat to low and stir in the coconut cream. Simmer for another 5 minutes, stirring occasionally.\\n\\n8. Add the baked tofu or paneer pieces to the sauce and simmer for an additional 5 minutes, allowing the flavors to infuse.\\n\\n9. Taste and adjust the seasoning if needed. If the sauce is too thick, you can add a little water to achieve the desired consistency.\\n\\n10. Garnish with freshly chopped cilantro and serve hot with steamed rice or naan bread.\\n\\nEnjoy your vegetarian version of Chicken Tikka Masala!\")"
      ]
     },
     "execution_count": 4,
     "metadata": {},
     "output_type": "execute_result"
    }
   ],
   "source": [
    "final_chain = {\"recipe\": chef_chain} | veg_chain\n",
    "\n",
    "final_chain.invoke(\n",
    "    {\n",
    "        \"cuisine\": \"indian\"\n",
    "    }\n",
    ")"
   ]
  },
  {
   "cell_type": "code",
   "execution_count": null,
   "metadata": {},
   "outputs": [],
   "source": []
  }
 ],
 "metadata": {
  "kernelspec": {
   "display_name": "gpt-fullstack",
   "language": "python",
   "name": "python3"
  },
  "language_info": {
   "codemirror_mode": {
    "name": "ipython",
    "version": 3
   },
   "file_extension": ".py",
   "mimetype": "text/x-python",
   "name": "python",
   "nbconvert_exporter": "python",
   "pygments_lexer": "ipython3",
   "version": "3.11.7"
  }
 },
 "nbformat": 4,
 "nbformat_minor": 2
}
