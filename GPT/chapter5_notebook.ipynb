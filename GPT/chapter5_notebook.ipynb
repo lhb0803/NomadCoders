{
 "cells": [
  {
   "cell_type": "code",
   "execution_count": 1,
   "metadata": {},
   "outputs": [],
   "source": [
    "from langchain.memory import ConversationSummaryBufferMemory\n",
    "from langchain.chat_models import ChatOpenAI\n",
    "from langchain.schema.runnable import RunnablePassthrough\n",
    "from langchain.prompts import PromptTemplate, ChatPromptTemplate, MessagesPlaceholder"
   ]
  },
  {
   "cell_type": "code",
   "execution_count": 2,
   "metadata": {},
   "outputs": [],
   "source": [
    "llm = ChatOpenAI(temperature=0.1)"
   ]
  },
  {
   "cell_type": "code",
   "execution_count": 3,
   "metadata": {},
   "outputs": [
    {
     "name": "stdout",
     "output_type": "stream",
     "text": [
      "Hello Hyobae! How can I assist you today?\n"
     ]
    }
   ],
   "source": [
    "memory = ConversationSummaryBufferMemory(\n",
    "    llm=llm,\n",
    "    max_token_limit=120,\n",
    "    return_messages=True,\n",
    ")\n",
    "\n",
    "prompt = ChatPromptTemplate.from_messages(\n",
    "    [\n",
    "        (\"system\", \"You are a helpful AI talking to a human\"),\n",
    "        MessagesPlaceholder(variable_name=\"history\"),\n",
    "        (\"human\", \"{question}\"),\n",
    "\n",
    "    ]\n",
    ")\n",
    "\n",
    "def load_memory(_):\n",
    "    return memory.load_memory_variables({})[\"history\"]\n",
    "\n",
    "chain = RunnablePassthrough.assign(history=load_memory) | prompt | llm\n",
    "\n",
    "def invoke_chain(question):\n",
    "    result = chain.invoke(\n",
    "        {\n",
    "            \"question\": question\n",
    "        }\n",
    "    )\n",
    "\n",
    "    memory.save_context({\"input\": question}, {\"output\": result.content})\n",
    "    print(result.content)\n",
    "\n",
    "invoke_chain(\"My name is Hyobae\")"
   ]
  },
  {
   "cell_type": "code",
   "execution_count": 4,
   "metadata": {},
   "outputs": [
    {
     "name": "stdout",
     "output_type": "stream",
     "text": [
      "Of course! Australia is known for its vibrant coffee culture, and there are several cities that offer fantastic coffee experiences. Here's a suggested tour plan for you:\n",
      "\n",
      "1. Melbourne: Start your trip in Melbourne, often considered the coffee capital of Australia. Explore the city's laneways and alleys, where you'll find numerous specialty coffee shops and cafes. Don't miss the famous Degraves Street and Hardware Lane. You can also join a coffee tour to learn about the city's coffee history and techniques.\n",
      "\n",
      "2. Sydney: Head to Sydney next, where you'll find a thriving coffee scene. Visit neighborhoods like Surry Hills and Newtown, known for their trendy cafes and specialty coffee shops. Take a stroll along Bondi Beach and enjoy a cup of coffee with a view. You can also consider joining a coffee cupping session or a barista workshop to enhance your coffee knowledge.\n",
      "\n",
      "3. Adelaide: Make your way to Adelaide, a city known for its relaxed atmosphere and excellent coffee. Explore the Central Market, where you'll find various coffee stalls and roasters. Take a trip to the nearby Adelaide Hills, where you can visit coffee plantations and learn about the coffee-growing process.\n",
      "\n",
      "4. Brisbane: Continue your coffee journey in Brisbane, where you'll find a mix of specialty coffee shops and local roasters. Visit the West End and Fortitude Valley neighborhoods, which are known for their vibrant coffee culture. Consider joining a coffee cupping session or a latte art workshop to further immerse yourself in the coffee scene.\n",
      "\n",
      "5. Perth: End your trip in Perth, where you'll find a growing coffee culture. Explore the city's trendy neighborhoods like Northbridge and Mount Lawley, which are home to numerous specialty coffee shops. Take a trip to Fremantle and enjoy a cup of coffee in one of its charming cafes.\n",
      "\n",
      "Remember to try different coffee styles like flat whites, long blacks, and piccolos, which are popular in Australia. Also, don't forget to try some local treats like lamingtons or Anzac biscuits to accompany your coffee.\n",
      "\n",
      "I hope this tour plan helps you enjoy the coffee culture in Australia! Let me know if you need any more information or assistance.\n"
     ]
    }
   ],
   "source": [
    "invoke_chain(\"I am planning a trip to Austrailia. I love coffee, and I want to enjoy coffee culture in Austrailia. Would you recommend me a tour plan?\")"
   ]
  },
  {
   "cell_type": "code",
   "execution_count": null,
   "metadata": {},
   "outputs": [],
   "source": []
  }
 ],
 "metadata": {
  "kernelspec": {
   "display_name": "gpt-fullstack",
   "language": "python",
   "name": "python3"
  },
  "language_info": {
   "codemirror_mode": {
    "name": "ipython",
    "version": 3
   },
   "file_extension": ".py",
   "mimetype": "text/x-python",
   "name": "python",
   "nbconvert_exporter": "python",
   "pygments_lexer": "ipython3",
   "version": "3.11.7"
  }
 },
 "nbformat": 4,
 "nbformat_minor": 2
}
