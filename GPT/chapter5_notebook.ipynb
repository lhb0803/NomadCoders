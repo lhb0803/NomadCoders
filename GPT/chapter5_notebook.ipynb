{
 "cells": [
  {
   "cell_type": "code",
   "execution_count": 1,
   "metadata": {},
   "outputs": [],
   "source": [
    "from langchain.memory import ConversationSummaryBufferMemory\n",
    "from langchain.chat_models import ChatOpenAI"
   ]
  },
  {
   "cell_type": "code",
   "execution_count": 2,
   "metadata": {},
   "outputs": [],
   "source": [
    "llm = ChatOpenAI(temperature=0.1)"
   ]
  },
  {
   "cell_type": "code",
   "execution_count": 3,
   "metadata": {},
   "outputs": [],
   "source": [
    "memory = ConversationSummaryBufferMemory(\n",
    "    llm=llm, \n",
    "    max_token_limit=90,\n",
    "    return_messages=True\n",
    ")\n",
    "\n",
    "def add_message(input_message, output_message):\n",
    "    memory.save_context(\n",
    "        {\n",
    "            \"input\": input_message\n",
    "        },\n",
    "        {\n",
    "            \"output\": output_message\n",
    "        }\n",
    "    )\n",
    "\n",
    "def get_history():\n",
    "    return memory.load_memory_variables({})\n",
    "\n",
    "add_message(\"Hi I'm Hyobae, I live in South Korea\", \"Wow that is so cool!\")"
   ]
  },
  {
   "cell_type": "code",
   "execution_count": 4,
   "metadata": {},
   "outputs": [],
   "source": [
    "add_message(\"South Korea is so pretty.\", \"I wish I could go!\")"
   ]
  },
  {
   "cell_type": "code",
   "execution_count": 5,
   "metadata": {},
   "outputs": [
    {
     "data": {
      "text/plain": [
       "{'history': [HumanMessage(content=\"Hi I'm Hyobae, I live in South Korea\"),\n",
       "  AIMessage(content='Wow that is so cool!'),\n",
       "  HumanMessage(content='South Korea is so pretty.'),\n",
       "  AIMessage(content='I wish I could go!')]}"
      ]
     },
     "execution_count": 5,
     "metadata": {},
     "output_type": "execute_result"
    }
   ],
   "source": [
    "get_history()"
   ]
  },
  {
   "cell_type": "code",
   "execution_count": 6,
   "metadata": {},
   "outputs": [],
   "source": [
    "add_message(\"How far is Austrailia from South Korea?\", \"I think you should find it on Internet.\")\n",
    "add_message(\"How far is USA from South Korea?\", \"I think you should find it on Internet.\")\n",
    "add_message(\"How far is Brazil from South Korea?\", \"I think you should find it on Internet.\")"
   ]
  },
  {
   "cell_type": "code",
   "execution_count": 7,
   "metadata": {},
   "outputs": [
    {
     "data": {
      "text/plain": [
       "{'history': [SystemMessage(content='The human introduces themselves as Hyobae from South Korea. The AI expresses excitement and finds it cool. The human mentions that South Korea is pretty, and the AI expresses a desire to go there.'),\n",
       "  HumanMessage(content='How far is Austrailia from South Korea?'),\n",
       "  AIMessage(content='I think you should find it on Internet.'),\n",
       "  HumanMessage(content='How far is USA from South Korea?'),\n",
       "  AIMessage(content='I think you should find it on Internet.'),\n",
       "  HumanMessage(content='How far is Brazil from South Korea?'),\n",
       "  AIMessage(content='I think you should find it on Internet.')]}"
      ]
     },
     "execution_count": 7,
     "metadata": {},
     "output_type": "execute_result"
    }
   ],
   "source": [
    "get_history()"
   ]
  },
  {
   "cell_type": "code",
   "execution_count": null,
   "metadata": {},
   "outputs": [],
   "source": []
  }
 ],
 "metadata": {
  "kernelspec": {
   "display_name": "gpt-fullstack",
   "language": "python",
   "name": "python3"
  },
  "language_info": {
   "codemirror_mode": {
    "name": "ipython",
    "version": 3
   },
   "file_extension": ".py",
   "mimetype": "text/x-python",
   "name": "python",
   "nbconvert_exporter": "python",
   "pygments_lexer": "ipython3",
   "version": "3.11.7"
  }
 },
 "nbformat": 4,
 "nbformat_minor": 2
}
